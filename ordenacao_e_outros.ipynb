{
 "cells": [
  {
   "cell_type": "markdown",
   "execution_count": null,
   "metadata": {},
   "outputs": [],
   "source": [
    "# sorting  \n",
    "### Ordenação de uma **lista**"
   ]
  },
  {
   "cell_type": "code",
   "execution_count": null,
   "metadata": {},
   "outputs": [],
   "source": [
    "lista = [1, 3, 6, 10, 44, 122, 2, 22, 47, 121, 17, 9]"
   ]
  },
  {
   "cell_type": "code",
   "execution_count": null,
   "metadata": {},
   "outputs": [],
   "source": [
    "# ordenação ascendente\n",
    "lista.sort()\n",
    "print(lista)"
   ]
  },
  {
   "cell_type": "code",
   "execution_count": null,
   "metadata": {},
   "outputs": [],
   "source": [
    "# ordenação descendente\n",
    "lista.sort(reverse=True) # reverse=False (default) \n",
    "print(lista)"
   ]
  },
  {
   "cell_type": "markdown",
   "execution_count": null,
   "metadata": {},
   "outputs": [],
   "source": [
    "### Ordenação de uma **lista de tuplas**"
   ]
  },
  {
   "cell_type": "code",
   "execution_count": null,
   "metadata": {},
   "outputs": [],
   "source": [
    "lista_tupl = [(1, 234), (23, 134), (3, 345), (18, 35), (4, 315), (8, 1012), (2, 11)]"
   ]
  },
  {
   "cell_type": "code",
   "execution_count": null,
   "metadata": {},
   "outputs": [],
   "source": [
    "# ordenação ascendente\n",
    "lista_tupl.sort(key=lambda x: x[0]) # x[0] = primeiro elemento da tupla\n",
    "print(lista_tupl)"
   ]
  },
  {
   "cell_type": "code",
   "execution_count": null,
   "metadata": {},
   "outputs": [],
   "source": [
    "# ordenação descendente\n",
    "lista_tupl.sort(key=lambda x: x[0], reverse=True)\n",
    "print(lista_tupl)"
   ]
  },
  {
   "cell_type": "markdown",
   "execution_count": null,
   "metadata": {},
   "outputs": [],
   "source": [
    "### Ordenação de uma **lista de dicionários**"
   ]
  },
  {
   "cell_type": "code",
   "execution_count": null,
   "metadata": {},
   "outputs": [],
   "source": [
    "lista_dict = [{'name': 'Cesar', 'age': 50}, \n",
    "              {'name': 'Jady', 'age': 35}, \n",
    "              {'name': 'Floriano', 'age': 85},\n",
    "              {'name': 'Fon', 'age': 80}]"
   ]
  },
  {
   "cell_type": "code",
   "execution_count": null,
   "metadata": {},
   "outputs": [],
   "source": [
    "# vamos usar o pretty-print (pprint) pra deixar mais bonita a saída\n",
    "from pprint import pprint"
   ]
  },
  {
   "cell_type": "code",
   "execution_count": null,
   "metadata": {},
   "outputs": [],
   "source": [
    "# ordenação ascendente\n",
    "lista_asc = sorted(lista_dict, key=lambda x: x['age']) # x['age'] = chave (key) do dicionario\n",
    "pprint(lista_asc)"
   ]
  },
  {
   "cell_type": "code",
   "execution_count": null,
   "metadata": {},
   "outputs": [],
   "source": [
    "# ordenação descendente\n",
    "lista_desc = sorted(lista_dict, key=lambda x: x['age'], reverse=True)\n",
    "pprint(lista_desc)"
   ]
  },
  {
   "cell_type": "markdown",
   "execution_count": null,
   "metadata": {},
   "outputs": [],
   "source": [
    "# max e min\n",
    "### Maior e menor elemento de uma **lista**"
   ]
  },
  {
   "cell_type": "code",
   "execution_count": null,
   "metadata": {},
   "outputs": [],
   "source": [
    "maior = max(lista)\n",
    "menor = min(lista)\n",
    "print('maior elemento: ', maior)\n",
    "print('menor elemento: ', menor)"
   ]
  },
  {
   "cell_type": "markdown",
   "execution_count": null,
   "metadata": {},
   "outputs": [],
   "source": [
    "### Maior e menor elemento de uma **lista de tuplas**"
   ]
  },
  {
   "cell_type": "code",
   "execution_count": null,
   "metadata": {},
   "outputs": [],
   "source": [
    "maior = max(lista_tupl, key=lambda x: x[0]) # x[0] = primeiro elemento da tupla\n",
    "menor = min(lista_tupl, key=lambda x: x[0])\n",
    "print('maior elemento: ', maior)\n",
    "print('menor elemento: ', menor)"
   ]
  },
  {
   "cell_type": "markdown",
   "execution_count": null,
   "metadata": {},
   "outputs": [],
   "source": [
    "### Maior e menor elemento de uma **lista de dicionarios**"
   ]
  },
  {
   "cell_type": "code",
   "execution_count": null,
   "metadata": {},
   "outputs": [],
   "source": [
    "maior = max(lista_dict, key=lambda x: x['age']) # x['age'] = chave (key) do dicionario\n",
    "menor = min(lista_dict, key=lambda x: x['age'])\n",
    "print('maior elemento: ', maior)\n",
    "print('menor elemento: ', menor)"
   ]
  },
  {
   "cell_type": "markdown",
   "execution_count": null,
   "metadata": {},
   "outputs": [],
   "source": [
    "# filter\n",
    "A partir de uma lista, cria outra lista de acordo com os parametros definidos na função **lambda**  \n",
    "### Filtrando de uma **lista**"
   ]
  },
  {
   "cell_type": "code",
   "execution_count": null,
   "metadata": {},
   "outputs": [],
   "source": [
    "pares = list(filter(lambda x: x % 2 == 0, lista))\n",
    "print(pares)"
   ]
  },
  {
   "cell_type": "markdown",
   "execution_count": null,
   "metadata": {},
   "outputs": [],
   "source": [
    "usando **list comprehension**"
   ]
  },
  {
   "cell_type": "code",
   "execution_count": null,
   "metadata": {},
   "outputs": [],
   "source": [
    "pares = [x for x in lista if x % 2 == 0]\n",
    "print(pares)"
   ]
  },
  {
   "cell_type": "markdown",
   "execution_count": null,
   "metadata": {},
   "outputs": [],
   "source": [
    "### Filtrando de uma **lista de tuplas**"
   ]
  },
  {
   "cell_type": "code",
   "execution_count": null,
   "metadata": {},
   "outputs": [],
   "source": [
    "indices_pares = list(filter(lambda x: x[0] % 2 == 0, lista_tupl))\n",
    "print(indices_pares)"
   ]
  },
  {
   "cell_type": "markdown",
   "execution_count": null,
   "metadata": {},
   "outputs": [],
   "source": [
    "usando **list comprehension**"
   ]
  },
  {
   "cell_type": "code",
   "execution_count": null,
   "metadata": {},
   "outputs": [],
   "source": [
    "indices_pares = [x for x in lista_tupl if x[0] % 2 == 0]\n",
    "print(indices_pares)"
   ]
  },
  {
   "cell_type": "markdown",
   "execution_count": null,
   "metadata": {},
   "outputs": [],
   "source": [
    "### Filtrando de uma **lista de dicionários**"
   ]
  },
  {
   "cell_type": "code",
   "execution_count": null,
   "metadata": {},
   "outputs": [],
   "source": [
    "age_low_50 = list(filter(lambda x: x['age'] <= 50, lista_dict))\n",
    "print(age_low_50)"
   ]
  },
  {
   "cell_type": "markdown",
   "execution_count": null,
   "metadata": {},
   "outputs": [],
   "source": [
    "usando **list comprehension**"
   ]
  },
  {
   "cell_type": "code",
   "execution_count": null,
   "metadata": {},
   "outputs": [],
   "source": [
    "age_low_50 = [x for x in lista_dict if x['age'] <= 50]\n",
    "print(age_low_50)"
   ]
  },
  {
   "cell_type": "markdown",
   "execution_count": null,
   "metadata": {},
   "outputs": [],
   "source": [
    "# Map\n",
    "Aplica uma função **lambda** em cada elemento de uma lista  \n",
    "### Map em uma lista"
   ]
  },
  {
   "cell_type": "code",
   "execution_count": null,
   "metadata": {},
   "outputs": [],
   "source": [
    "dobro = list(map(lambda x: x * 2, lista))\n",
    "print(dobro)"
   ]
  },
  {
   "cell_type": "markdown",
   "execution_count": null,
   "metadata": {},
   "outputs": [],
   "source": [
    "usando **list comprehension**"
   ]
  },
  {
   "cell_type": "code",
   "execution_count": null,
   "metadata": {},
   "outputs": [],
   "source": [
    "dobro = [x * 2 for x in lista]\n",
    "print(dobro)"
   ]
  },
  {
   "cell_type": "markdown",
   "execution_count": null,
   "metadata": {},
   "outputs": [],
   "source": [
    "### Map em uma **lista de tuplas**"
   ]
  },
  {
   "cell_type": "code",
   "execution_count": null,
   "metadata": {},
   "outputs": [],
   "source": [
    "indices_triplicados = list(map(lambda x: x[0] * 3, lista_tupl))\n",
    "pprint(indices_triplicados)"
   ]
  },
  {
   "cell_type": "markdown",
   "execution_count": null,
   "metadata": {},
   "outputs": [],
   "source": [
    "usando **list comprehension**"
   ]
  },
  {
   "cell_type": "code",
   "execution_count": null,
   "metadata": {},
   "outputs": [],
   "source": [
    "indices_triplicados = [x[0] * 3 for x in lista_tupl]\n",
    "pprint(indices_triplicados)"
   ]
  },
  {
   "cell_type": "markdown",
   "execution_count": null,
   "metadata": {},
   "outputs": [],
   "source": [
    "### Map em uma **lista de dicionarios**"
   ]
  },
  {
   "cell_type": "code",
   "execution_count": null,
   "metadata": {},
   "outputs": [],
   "source": [
    "half_age = list(map(lambda x: {'name': x['name'], 'half_age': x['age'] / 2}, lista_dict))\n",
    "pprint(half_age)"
   ]
  },
  {
   "cell_type": "markdown",
   "execution_count": null,
   "metadata": {},
   "outputs": [],
   "source": [
    "usando **list comprehension**"
   ]
  },
  {
   "cell_type": "code",
   "execution_count": null,
   "metadata": {},
   "outputs": [],
   "source": [
    "half_age = [{'name': x['name'], 'half_age': x['age'] / 2} for x in lista_dict]\n",
    "pprint(half_age)"
   ]
  },
  {
   "cell_type": "code",
   "execution_count": null,
   "metadata": {},
   "outputs": [],
   "source": []
  }
 ],
 "metadata": {
  "file_extension": ".py",
  "kernelspec": {
   "display_name": "Python 3.7.5 64-bit ('venv': venv)",
   "language": "python",
   "name": "python37564bitvenvvenv28578c0a994e4c8b9c4f36321c98484e"
  },
  "language_info": {
   "codemirror_mode": {
    "name": "ipython",
    "version": 3
   },
   "file_extension": ".py",
   "mimetype": "text/x-python",
   "name": "python",
   "nbconvert_exporter": "python",
   "pygments_lexer": "ipython3",
   "version": "3.7.5-final"
  },
  "mimetype": "text/x-python",
  "name": "python",
  "npconvert_exporter": "python",
  "pygments_lexer": "ipython3",
  "version": 3
 },
 "nbformat": 4,
 "nbformat_minor": 2
}