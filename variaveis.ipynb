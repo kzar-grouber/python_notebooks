{
 "cells": [
  {
   "cell_type": "markdown",
   "execution_count": null,
   "metadata": {},
   "outputs": [],
   "source": [
    "# Variáveis\n",
    "Uma variável pode ter um nome curto (como x e y) ou um nome mais descritivo (idade, nome, volume_total).\n",
    "\n",
    "## Regras para variáveis ​​em Python:\n",
    "\n",
    "- um nome de variável deve começar com uma letra ou o caractere sublinhado  \n",
    "- um nome de variável não pode começar com um número  \n",
    "- um nome da variável pode conter apenas caracteres e sublinhados alfanuméricos (AZ, 0-9, e _)  \n",
    "- os nomes das variáveis ​​são case-sensitive (idade, idade e idade são três variáveis ​​diferentes)  \n",
    "    \n",
    "## Palavras reservadas:\n",
    "**Não** podemos usar palavras reservadas do python como nomes de variáveis.  \n",
    ">*‘False’, ‘None’, ‘True’, ‘and’, ‘as’, ‘assert’, ‘async’, ‘await’, ‘break’, \n",
    "‘class’, ‘continue’, ‘def’, ‘del’, ‘elif’, ‘else’, ‘except’, ‘finally’, ‘for’, \n",
    "‘from’, ‘global’, ‘if’, ‘import’, ‘in’, ‘is’, ‘lambda’, ‘nonlocal’, ‘not’, ‘or’, \n",
    "‘pass’, ‘raise’, ‘return’, ‘try’, ‘while’, ‘with’, ‘yield’*\n",
    "\n",
    "abaixo seguem os tipos de variáveis"
   ]
  },
  {
   "cell_type": "markdown",
   "execution_count": null,
   "metadata": {},
   "outputs": [],
   "source": [
    "### inteiros (int)"
   ]
  },
  {
   "cell_type": "code",
   "execution_count": null,
   "metadata": {},
   "outputs": [],
   "source": [
    "inteiro = 28\n",
    "print('inteiro:', inteiro, 'tipo:', type(inteiro)) # type(variavel) mostra o tipo da variável"
   ]
  },
  {
   "cell_type": "markdown",
   "execution_count": null,
   "metadata": {},
   "outputs": [],
   "source": [
    "### ponto flutuante (float)"
   ]
  },
  {
   "cell_type": "code",
   "execution_count": null,
   "metadata": {},
   "outputs": [],
   "source": [
    "ponto_flutuante = 3.1415\n",
    "print('ponto_flutuante:', ponto_flutuante, 'tipo:', type(ponto_flutuante))"
   ]
  },
  {
   "cell_type": "markdown",
   "execution_count": null,
   "metadata": {},
   "outputs": [],
   "source": [
    "### número complexo (complex)"
   ]
  },
  {
   "cell_type": "code",
   "execution_count": null,
   "metadata": {},
   "outputs": [],
   "source": [
    "num_complex = 3j\n",
    "print('num_complex:', num_complex, 'tipo:', type(num_complex))"
   ]
  },
  {
   "cell_type": "markdown",
   "execution_count": null,
   "metadata": {},
   "outputs": [],
   "source": [
    "### texto (str)"
   ]
  },
  {
   "cell_type": "code",
   "execution_count": null,
   "metadata": {},
   "outputs": [],
   "source": [
    "texto = 'Jady Godoi'\n",
    "print('texto:', texto, 'tipo:', type(texto))"
   ]
  },
  {
   "cell_type": "markdown",
   "execution_count": null,
   "metadata": {},
   "outputs": [],
   "source": [
    "### booleano (bool)"
   ]
  },
  {
   "cell_type": "code",
   "execution_count": null,
   "metadata": {},
   "outputs": [],
   "source": [
    "booleano = True\n",
    "print('booleano:', booleano, 'tipo:', type(booleano))"
   ]
  },
  {
   "cell_type": "markdown",
   "execution_count": null,
   "metadata": {},
   "outputs": [],
   "source": [
    "### variável vazia (NoneType)"
   ]
  },
  {
   "cell_type": "code",
   "execution_count": null,
   "metadata": {},
   "outputs": [],
   "source": [
    "vazio = None\n",
    "print('vazio:', vazio, 'tipo:', type(vazio))"
   ]
  },
  {
   "cell_type": "markdown",
   "execution_count": null,
   "metadata": {},
   "outputs": [],
   "source": [
    "### atribuição múltipla"
   ]
  },
  {
   "cell_type": "code",
   "execution_count": null,
   "metadata": {},
   "outputs": [],
   "source": [
    "x, y, z = \"Laranja\", \"Banana\", \"Cereja\"\n",
    "print('x:', x, 'y:', y, 'z:', z)"
   ]
  },
  {
   "cell_type": "markdown",
   "execution_count": null,
   "metadata": {},
   "outputs": [],
   "source": [
    "### mesmo valor para várias variáveis"
   ]
  },
  {
   "cell_type": "code",
   "execution_count": null,
   "metadata": {},
   "outputs": [],
   "source": [
    "x = y = z = 'tudo igual'\n",
    "print('x:', x, 'y:', y, 'z:', z)"
   ]
  },
  {
   "cell_type": "markdown",
   "execution_count": null,
   "metadata": {},
   "outputs": [],
   "source": [
    "### variável global\n",
    "É uma variável criada fora do escopo de uma função"
   ]
  },
  {
   "cell_type": "code",
   "execution_count": null,
   "metadata": {},
   "outputs": [],
   "source": [
    "x = 'mundo'\n",
    "\n",
    "def myfunc():\n",
    "    print('Olá ' + x + '!')\n",
    "\n",
    "myfunc()"
   ]
  },
  {
   "cell_type": "markdown",
   "execution_count": null,
   "metadata": {},
   "outputs": [],
   "source": [
    "### variável local\n",
    "É uma variável criada dentro do escopo de uma função"
   ]
  },
  {
   "cell_type": "code",
   "execution_count": null,
   "metadata": {},
   "outputs": [],
   "source": [
    "x = 'mundo'\n",
    "\n",
    "def myfunc():\n",
    "    x = 'cesar' # variável local\n",
    "    print('Olá ' + x + '!')\n",
    "\n",
    "myfunc()\n",
    "\n",
    "print('E aí, ' + x + ' :P')"
   ]
  },
  {
   "cell_type": "markdown",
   "execution_count": null,
   "metadata": {},
   "outputs": [],
   "source": [
    "### variável local --> global\n",
    "Usamos a palavra reservada **global** para dizer que a variável, criada dento de uma função,\n",
    "vai ser usada no escopo global"
   ]
  },
  {
   "cell_type": "code",
   "execution_count": null,
   "metadata": {},
   "outputs": [],
   "source": [
    "def myfunc():\n",
    "  global x\n",
    "  x = 'mundo'\n",
    "  print('Olá ' + x + '!')\n",
    "\n",
    "myfunc()\n",
    "\n",
    "print(\"Eu tô no \" + x + '!!!')  "
   ]
  },
  {
   "cell_type": "markdown",
   "execution_count": null,
   "metadata": {},
   "outputs": [],
   "source": [
    "### lista (list)"
   ]
  },
  {
   "cell_type": "code",
   "execution_count": null,
   "metadata": {},
   "outputs": [],
   "source": [
    "lista = ['abacaxi', 'pêra', 'manga', 'manga', 'uva', 'mamão', 'banana', 'uva']\n",
    "print('Minha lista é:', lista)\n",
    "print('tipo:', type(lista))"
   ]
  },
  {
   "cell_type": "markdown",
   "execution_count": null,
   "metadata": {},
   "outputs": [],
   "source": [
    "### tupla (tuple)\n",
    "semelhante a uma lista, porém os ítens são imutáveis"
   ]
  },
  {
   "cell_type": "code",
   "execution_count": null,
   "metadata": {},
   "outputs": [],
   "source": [
    "tupla = ('abacaxi', 'pêra', 'manga', 'mamão', 'banana', 'uva')\n",
    "print('Minha tupla é:', tupla)\n",
    "print('tipo:', type(tupla))"
   ]
  },
  {
   "cell_type": "markdown",
   "execution_count": null,
   "metadata": {},
   "outputs": [],
   "source": [
    "### range (range)\n",
    "Cria um conjunto sequencial números  \n",
    ">range(8) --> # de 0 a 7  \n",
    ">range(2, 7) --> # de 2 a 6  \n",
    ">range(2, 12, 3) --> # de 2 a 11 razão de 3  \n",
    ">range(13, 5, -2) --> # de 13 a 5 razão de 2 regressivo"
   ]
  },
  {
   "cell_type": "code",
   "execution_count": null,
   "metadata": {},
   "outputs": [],
   "source": [
    "range1 = range(8)\n",
    "range2 = range(2, 7)\n",
    "range3 = range(2, 12, 3)\n",
    "range4 = range(13, 5, -2)\n",
    "print('range1:', range1, 'list(range1):', list(range1))\n",
    "print('range2:', range2, 'list(range2):', list(range2))\n",
    "print('range3:', range3, 'list(range3):', list(range3))\n",
    "print('range4:', range4, 'list(range4):', list(range4))"
   ]
  },
  {
   "cell_type": "markdown",
   "execution_count": null,
   "metadata": {},
   "outputs": [],
   "source": [
    "### set (set) e frozenset (frozenset)\n",
    "set é semelhante a uma **lista**, porém não repete ítens  \n",
    "o frozenset({set}) é semelhante a uma **tupla**,  \n",
    "mas que também não repete os ítens"
   ]
  },
  {
   "cell_type": "code",
   "execution_count": null,
   "metadata": {},
   "outputs": [],
   "source": [
    "set1 = {'abacaxi', 'pêra', 'manga', 'manga', 'uva', 'mamão', 'banana', 'uva'}\n",
    "print('Meu set é:', set1)\n",
    "print('tipo:', type(set1))\n",
    "print('-' * 80)\n",
    "set2 = frozenset({1, 2, 4, 2, 5, 9, 10, 5, 2, 1, 8, 9})\n",
    "print('Meu frozenset é:', set2)\n",
    "print('tipo:', type(set2))"
   ]
  },
  {
   "cell_type": "markdown",
   "execution_count": null,
   "metadata": {},
   "outputs": [],
   "source": [
    "### dicionários (dict)\n",
    "estrutura de dados no formato **chave**: **valor** (semelhante ao JSON)  \n",
    "> pessoa = {'nome': 'Cesar Godoi', 'altura': 1.87, 'peso': 92}\n",
    "  \n",
    "podemos chamar individualmente cada chave:  \n",
    "> pessoa\\['nome'\\] # Cesar Godoi  \n",
    "> pessoa\\['altura'\\] # 1.87  \n",
    "> pessoa\\['peso'\\] # 92"
   ]
  },
  {
   "cell_type": "code",
   "execution_count": null,
   "metadata": {},
   "outputs": [],
   "source": [
    "pessoa = {'nome': 'Cesar Godoi', 'altura': 1.87, 'peso': 92}\n",
    "print('Os dados da pessoa são:')\n",
    "print('nome:', pessoa['nome'])\n",
    "print('altura:', pessoa['altura'], 'm')\n",
    "print('peso:', pessoa['peso'], 'kg')\n",
    "print('tipo:', type(pessoa))"
   ]
  },
  {
   "cell_type": "code",
   "execution_count": null,
   "metadata": {},
   "outputs": [],
   "source": []
  }
 ],
 "metadata": {
  "file_extension": ".py",
  "kernelspec": {
   "display_name": "Python 3.7.5 64-bit ('venv': venv)",
   "language": "python",
   "name": "python37564bitvenvvenv28578c0a994e4c8b9c4f36321c98484e"
  },
  "language_info": {
   "codemirror_mode": {
    "name": "ipython",
    "version": 3
   },
   "file_extension": ".py",
   "mimetype": "text/x-python",
   "name": "python",
   "nbconvert_exporter": "python",
   "pygments_lexer": "ipython3",
   "version": "3.7.5-final"
  },
  "mimetype": "text/x-python",
  "name": "python",
  "npconvert_exporter": "python",
  "pygments_lexer": "ipython3",
  "version": 3
 },
 "nbformat": 4,
 "nbformat_minor": 2
}